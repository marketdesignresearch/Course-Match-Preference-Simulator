{
 "cells": [
  {
   "cell_type": "code",
   "execution_count": 1,
   "metadata": {},
   "outputs": [],
   "source": [
    "from preference_generator import create_all_instances, calculate_total_demand, create_noisy_model_student_list, calculate_true_bundle_value\n",
    "from preference_generator_utils import load_obj\n",
    "import numpy as np"
   ]
  },
  {
   "attachments": {},
   "cell_type": "markdown",
   "metadata": {},
   "source": [
    "## Generating Student Instances"
   ]
  },
  {
   "attachments": {},
   "cell_type": "markdown",
   "metadata": {},
   "source": [
    "### Generating Some True Student Lists"
   ]
  },
  {
   "cell_type": "code",
   "execution_count": 2,
   "metadata": {},
   "outputs": [
    {
     "name": "stdout",
     "output_type": "stream",
     "text": [
      "Generating students for run 0\n",
      "Generating students for run 1\n",
      "Generating students for run 2\n",
      "Generating students for run 3\n",
      "Generating students for run 4\n",
      "Generating students for run 5\n",
      "Generating students for run 6\n",
      "Generating students for run 7\n",
      "Generating students for run 8\n",
      "Generating students for run 9\n"
     ]
    }
   ],
   "source": [
    "true_student_lists_all_instances, capacities_all_instances, timetables_all_instances = create_all_instances(number_of_instances = 10, number_of_courses= 25, supply_ratio= 1.25, number_of_popular= 9, \n",
    "    save_results= True, save_folder= \"instances\")"
   ]
  },
  {
   "cell_type": "code",
   "execution_count": 3,
   "metadata": {},
   "outputs": [],
   "source": [
    "def load_instance(instance_number, supply_ratio = 1.25, number_of_popular = 9, large_grid = True, instance_folder = \"instances\"):\n",
    "    \"\"\"\n",
    "    A simple function to load a single instance, given its number, the supply ration, and the number of pupular courses\n",
    "    \"\"\"\n",
    "\n",
    "    true_student_list = load_obj(f'{instance_folder}/true_student_lists_sr_{supply_ratio}_popular_{number_of_popular}_lg_{large_grid}')[instance_number]\n",
    "    capacities = np.load(f'{instance_folder}/capacities_all_runs_sr_{supply_ratio}_popular_{number_of_popular}_lg_{large_grid}.npy')[instance_number]\n",
    "    timetable = load_obj(f'{instance_folder}/timetables_sr_{supply_ratio}_popular_{number_of_popular}_lg_{large_grid}')[instance_number]\n",
    "\n",
    "    return true_student_list, capacities, timetable\n"
   ]
  },
  {
   "cell_type": "code",
   "execution_count": 4,
   "metadata": {},
   "outputs": [],
   "source": [
    "true_student_list, capacities, timetable = load_instance(instance_number = 2)"
   ]
  },
  {
   "attachments": {},
   "cell_type": "markdown",
   "metadata": {},
   "source": [
    "## Creating a \"Noisy\" version of a student list"
   ]
  },
  {
   "cell_type": "code",
   "execution_count": 5,
   "metadata": {},
   "outputs": [
    {
     "name": "stdout",
     "output_type": "stream",
     "text": [
      "Noisy all students got called with forget base uniform: 0\n"
     ]
    }
   ],
   "source": [
    "number_of_popular = 9 \n",
    "\n",
    "# these are the noise profiles that were used in our paper and matched as closely as possible the noise profile in the Budish and Kessler paper. \n",
    "if number_of_popular == 9:\n",
    "    noise_parameter_dictionary = {'noisy_forget_base': 0.5, 'noisy_forget_adjustments': 0.48, 'noisy_base_std': 23, 'noisy_adj_std': 0.2}\n",
    "\n",
    "elif number_of_popular == 6:\n",
    "    noise_parameter_dictionary = {'noisy_forget_base': 0.5, 'noisy_forget_adjustments': 0.4825, 'noisy_base_std': 17, 'noisy_adj_std': 0.2}\n",
    "\n",
    "\n",
    "noisy_student_list = create_noisy_model_student_list(student_list = true_student_lists_all_instances[2], model_type = 'PairwiseAdjustmentsNoisy', \n",
    "                                                    seed = 1213, model_param_dictionary = noise_parameter_dictionary)"
   ]
  },
  {
   "attachments": {},
   "cell_type": "markdown",
   "metadata": {},
   "source": [
    "## Getting the demands of individual students for a given price vector"
   ]
  },
  {
   "cell_type": "code",
   "execution_count": 6,
   "metadata": {},
   "outputs": [
    {
     "name": "stdout",
     "output_type": "stream",
     "text": [
      "Set parameter Username\n",
      "Academic license - for non-commercial use only - expires 2024-02-21\n"
     ]
    }
   ],
   "source": [
    "price_vector = np.array([0.2 for _ in range(25)])  # A price vector for the individual courses\n",
    "credit_units = np.array([1 for _ in range(25)])  # the credit units of inidividual courses.\n",
    "\n",
    "# Demands with respect to their noisy reports in the mechanism\n",
    "total_demand, individual_demands = calculate_total_demand(prices = np.array([0.2 for _ in range(25)]), student_profiles = noisy_student_list, course_timetable = [[] for  _ in range(5)],\n",
    "                            credit_units = np.array([1 for _ in range(25)]), model_type = 'PairwiseAdjustmentsNoisy', courses_per_student = 5, return_individual_demands = True)\n",
    "    \n",
    "# Demands with respect to their true reports (note: these preferences are incompatible with the CM GUI language)\n",
    "total_demand_true, individual_demands_true = calculate_total_demand(prices = np.array([0.2 for _ in range(25)]), student_profiles = true_student_list, course_timetable = [[] for  _ in range(5)],\n",
    "                        credit_units = np.array([1 for _ in range(25)]), model_type = 'True', courses_per_student = 5, return_individual_demands = True)"
   ]
  },
  {
   "attachments": {},
   "cell_type": "markdown",
   "metadata": {},
   "source": [
    "## Querying the true value of a student for a bundle"
   ]
  },
  {
   "cell_type": "code",
   "execution_count": 7,
   "metadata": {},
   "outputs": [
    {
     "name": "stdout",
     "output_type": "stream",
     "text": [
      "For student 0, value for the optimal bundle 386.2362943472781 and the one she got under noisy reports: 302.23872998960667\n",
      "For student 1, value for the optimal bundle 396.7543121187704 and the one she got under noisy reports: 356.1575381297953\n",
      "For student 2, value for the optimal bundle 418.2265760730745 and the one she got under noisy reports: 372.143997224518\n",
      "For student 3, value for the optimal bundle 358.88561807598495 and the one she got under noisy reports: 265.66926424133464\n",
      "For student 4, value for the optimal bundle 379.9503980064402 and the one she got under noisy reports: 245.0077004942768\n",
      "For student 5, value for the optimal bundle 378.37980436746705 and the one she got under noisy reports: 261.29276926383284\n",
      "For student 6, value for the optimal bundle 412.5615875373878 and the one she got under noisy reports: 295.71582775286504\n",
      "For student 7, value for the optimal bundle 427.7514910074204 and the one she got under noisy reports: 385.3619728989603\n",
      "For student 8, value for the optimal bundle 405.26336337568114 and the one she got under noisy reports: 362.29045766984933\n",
      "For student 9, value for the optimal bundle 347.83368369070166 and the one she got under noisy reports: 308.50759938972726\n",
      "For student 10, value for the optimal bundle 337.5646298444681 and the one she got under noisy reports: 266.9770800984508\n",
      "For student 11, value for the optimal bundle 382.4107757838171 and the one she got under noisy reports: 311.41998448957975\n",
      "For student 12, value for the optimal bundle 392.9066324602478 and the one she got under noisy reports: 392.9066324602478\n",
      "For student 13, value for the optimal bundle 405.68318212986867 and the one she got under noisy reports: 396.46427063120746\n",
      "For student 14, value for the optimal bundle 433.6028593950533 and the one she got under noisy reports: 249.1412069691158\n",
      "For student 15, value for the optimal bundle 378.0758503724942 and the one she got under noisy reports: 245.30000594083955\n",
      "For student 16, value for the optimal bundle 362.2409862627677 and the one she got under noisy reports: 296.3203844138348\n",
      "For student 17, value for the optimal bundle 366.34543531767673 and the one she got under noisy reports: 318.75731717527503\n",
      "For student 18, value for the optimal bundle 400.13890000204174 and the one she got under noisy reports: 348.5311920883929\n",
      "For student 19, value for the optimal bundle 350.3775994137398 and the one she got under noisy reports: 317.92412835134814\n",
      "For student 20, value for the optimal bundle 437.5146183846912 and the one she got under noisy reports: 437.5146183846912\n",
      "For student 21, value for the optimal bundle 369.00227401345 and the one she got under noisy reports: 354.5881641138061\n",
      "For student 22, value for the optimal bundle 356.12198890319223 and the one she got under noisy reports: 325.2172628758307\n",
      "For student 23, value for the optimal bundle 377.27125760215563 and the one she got under noisy reports: 316.95352031158586\n",
      "For student 24, value for the optimal bundle 364.89635772489686 and the one she got under noisy reports: 344.3074314928969\n",
      "For student 25, value for the optimal bundle 465.2701222342347 and the one she got under noisy reports: 465.2701222342347\n",
      "For student 26, value for the optimal bundle 332.73713463310685 and the one she got under noisy reports: 257.75799001772725\n",
      "For student 27, value for the optimal bundle 409.84044073965174 and the one she got under noisy reports: 334.87161342458126\n",
      "For student 28, value for the optimal bundle 436.69112411970116 and the one she got under noisy reports: 330.06753537387453\n",
      "For student 29, value for the optimal bundle 382.7488779938374 and the one she got under noisy reports: 335.96917882330587\n",
      "For student 30, value for the optimal bundle 309.9588078039351 and the one she got under noisy reports: 271.7956376309704\n",
      "For student 31, value for the optimal bundle 334.4787515340047 and the one she got under noisy reports: 261.4824078544911\n",
      "For student 32, value for the optimal bundle 340.77766140879703 and the one she got under noisy reports: 309.91523490336294\n",
      "For student 33, value for the optimal bundle 407.39343667676155 and the one she got under noisy reports: 368.9247081705748\n",
      "For student 34, value for the optimal bundle 366.96635537367445 and the one she got under noisy reports: 338.60718365714\n",
      "For student 35, value for the optimal bundle 383.7961473510213 and the one she got under noisy reports: 369.37543608181704\n",
      "For student 36, value for the optimal bundle 377.5112875980618 and the one she got under noisy reports: 289.95956987064443\n",
      "For student 37, value for the optimal bundle 363.98649833769264 and the one she got under noisy reports: 319.4390998929452\n",
      "For student 38, value for the optimal bundle 399.5342331063814 and the one she got under noisy reports: 342.4736152721856\n",
      "For student 39, value for the optimal bundle 458.64565577246856 and the one she got under noisy reports: 458.64565577246856\n",
      "For student 40, value for the optimal bundle 375.2154839719266 and the one she got under noisy reports: 348.0785646768952\n",
      "For student 41, value for the optimal bundle 382.53516648231124 and the one she got under noisy reports: 310.18248375652786\n",
      "For student 42, value for the optimal bundle 421.6969938571955 and the one she got under noisy reports: 297.4624205821259\n",
      "For student 43, value for the optimal bundle 373.50223910773605 and the one she got under noisy reports: 283.8275226549164\n",
      "For student 44, value for the optimal bundle 414.0493017273949 and the one she got under noisy reports: 347.0971315339846\n",
      "For student 45, value for the optimal bundle 382.2317517813896 and the one she got under noisy reports: 319.1451038291282\n",
      "For student 46, value for the optimal bundle 400.13462674153857 and the one she got under noisy reports: 333.9994241107869\n",
      "For student 47, value for the optimal bundle 345.65836761983905 and the one she got under noisy reports: 319.25366026880556\n",
      "For student 48, value for the optimal bundle 396.0120058052031 and the one she got under noisy reports: 331.4869117957546\n",
      "For student 49, value for the optimal bundle 369.2138276368179 and the one she got under noisy reports: 336.28617687214626\n",
      "For student 50, value for the optimal bundle 350.5175324495576 and the one she got under noisy reports: 254.44347850224085\n",
      "For student 51, value for the optimal bundle 345.5213275979867 and the one she got under noisy reports: 335.98960048573196\n",
      "For student 52, value for the optimal bundle 421.19384333698406 and the one she got under noisy reports: 372.56236170636384\n",
      "For student 53, value for the optimal bundle 408.3412655744482 and the one she got under noisy reports: 301.1368528005715\n",
      "For student 54, value for the optimal bundle 446.2142830252965 and the one she got under noisy reports: 345.2786770346715\n",
      "For student 55, value for the optimal bundle 397.04258862569526 and the one she got under noisy reports: 307.604288710084\n",
      "For student 56, value for the optimal bundle 348.9456702067578 and the one she got under noisy reports: 273.46451900994794\n",
      "For student 57, value for the optimal bundle 346.8281592799511 and the one she got under noisy reports: 326.830750222663\n",
      "For student 58, value for the optimal bundle 422.62230597414504 and the one she got under noisy reports: 422.62230597414504\n",
      "For student 59, value for the optimal bundle 469.18153208790216 and the one she got under noisy reports: 324.2255568414019\n",
      "For student 60, value for the optimal bundle 378.56988937206296 and the one she got under noisy reports: 344.91704987240513\n",
      "For student 61, value for the optimal bundle 329.2486158019153 and the one she got under noisy reports: 242.54874263562982\n",
      "For student 62, value for the optimal bundle 402.0189839261207 and the one she got under noisy reports: 346.0943640924175\n",
      "For student 63, value for the optimal bundle 367.80809666687225 and the one she got under noisy reports: 295.0304100822135\n",
      "For student 64, value for the optimal bundle 377.15244279271485 and the one she got under noisy reports: 355.36665357866724\n",
      "For student 65, value for the optimal bundle 314.97196122526464 and the one she got under noisy reports: 253.87047017999635\n",
      "For student 66, value for the optimal bundle 385.464096883869 and the one she got under noisy reports: 244.7286382394163\n",
      "For student 67, value for the optimal bundle 436.8912660193239 and the one she got under noisy reports: 373.49567765574216\n",
      "For student 68, value for the optimal bundle 399.67514476955193 and the one she got under noisy reports: 368.2819328075271\n",
      "For student 69, value for the optimal bundle 366.429738218878 and the one she got under noisy reports: 330.4303719745823\n",
      "For student 70, value for the optimal bundle 367.73089969013483 and the one she got under noisy reports: 271.0139978210259\n",
      "For student 71, value for the optimal bundle 379.4117703929113 and the one she got under noisy reports: 320.46255069083674\n",
      "For student 72, value for the optimal bundle 430.81557613082805 and the one she got under noisy reports: 322.70784865445506\n",
      "For student 73, value for the optimal bundle 338.305967343493 and the one she got under noisy reports: 227.0028081114918\n",
      "For student 74, value for the optimal bundle 393.4391959771163 and the one she got under noisy reports: 315.7557761550233\n",
      "For student 75, value for the optimal bundle 385.31400586696714 and the one she got under noisy reports: 359.38366852260873\n",
      "For student 76, value for the optimal bundle 422.7980966027113 and the one she got under noisy reports: 357.48232370695416\n",
      "For student 77, value for the optimal bundle 357.3300448906191 and the one she got under noisy reports: 331.4679259643583\n",
      "For student 78, value for the optimal bundle 409.1644105309308 and the one she got under noisy reports: 338.8763060237269\n",
      "For student 79, value for the optimal bundle 320.76711594637476 and the one she got under noisy reports: 309.8833507304098\n",
      "For student 80, value for the optimal bundle 378.06872900184294 and the one she got under noisy reports: 355.29017728707674\n",
      "For student 81, value for the optimal bundle 364.1057435654317 and the one she got under noisy reports: 249.72709435333377\n",
      "For student 82, value for the optimal bundle 375.948827389018 and the one she got under noisy reports: 330.08001249187197\n",
      "For student 83, value for the optimal bundle 421.83258520273927 and the one she got under noisy reports: 404.4680590759892\n",
      "For student 84, value for the optimal bundle 315.15464805996726 and the one she got under noisy reports: 250.68306600146065\n",
      "For student 85, value for the optimal bundle 365.15073737540314 and the one she got under noisy reports: 298.6346434569977\n",
      "For student 86, value for the optimal bundle 378.2499538863006 and the one she got under noisy reports: 320.69501672006595\n",
      "For student 87, value for the optimal bundle 397.1062589593692 and the one she got under noisy reports: 345.31646584023946\n",
      "For student 88, value for the optimal bundle 486.6643829904238 and the one she got under noisy reports: 374.66702353042274\n",
      "For student 89, value for the optimal bundle 359.023105630305 and the one she got under noisy reports: 234.2884781740585\n",
      "For student 90, value for the optimal bundle 427.8079463378629 and the one she got under noisy reports: 296.8553527998699\n",
      "For student 91, value for the optimal bundle 361.2515456171678 and the one she got under noisy reports: 305.7522540047816\n",
      "For student 92, value for the optimal bundle 370.481134355367 and the one she got under noisy reports: 347.30879306644147\n",
      "For student 93, value for the optimal bundle 372.89520558921356 and the one she got under noisy reports: 274.5387355641088\n",
      "For student 94, value for the optimal bundle 369.52248872122317 and the one she got under noisy reports: 357.691806584794\n",
      "For student 95, value for the optimal bundle 370.86881648720487 and the one she got under noisy reports: 298.28539958200713\n",
      "For student 96, value for the optimal bundle 378.01337788103325 and the one she got under noisy reports: 216.14376338249704\n",
      "For student 97, value for the optimal bundle 411.7607286185261 and the one she got under noisy reports: 373.59428701685755\n",
      "For student 98, value for the optimal bundle 396.25152577611226 and the one she got under noisy reports: 365.27256253927294\n",
      "For student 99, value for the optimal bundle 374.0040259771712 and the one she got under noisy reports: 374.0040259771712\n"
     ]
    }
   ],
   "source": [
    "for i in range(len(individual_demands)): \n",
    "    value_bundle_noisy_preferences = calculate_true_bundle_value(bundle = individual_demands[i], student_preferences = true_student_list[i], timetable = [[] for  _ in range(5)], make_monotone = True)\n",
    "    value_bundle_true_preferences = calculate_true_bundle_value(bundle = individual_demands_true[i], student_preferences = true_student_list[i], timetable = [[] for  _ in range(5)], make_monotone = True)\n",
    "\n",
    "    print(f'For student {i}, value for the optimal bundle {value_bundle_true_preferences} and the one she got under noisy reports: {value_bundle_noisy_preferences}')"
   ]
  }
 ],
 "metadata": {
  "kernelspec": {
   "display_name": "mlca_dq",
   "language": "python",
   "name": "python3"
  },
  "language_info": {
   "codemirror_mode": {
    "name": "ipython",
    "version": 3
   },
   "file_extension": ".py",
   "mimetype": "text/x-python",
   "name": "python",
   "nbconvert_exporter": "python",
   "pygments_lexer": "ipython3",
   "version": "3.8.16"
  },
  "orig_nbformat": 4,
  "vscode": {
   "interpreter": {
    "hash": "a13a3921ff2a036888c80ce6d9a76381b84f0c8446943c3cdab5acf61d8dcce5"
   }
  }
 },
 "nbformat": 4,
 "nbformat_minor": 2
}
