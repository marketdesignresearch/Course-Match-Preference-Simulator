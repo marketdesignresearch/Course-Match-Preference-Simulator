{
 "cells": [
  {
   "cell_type": "code",
   "execution_count": 1,
   "metadata": {},
   "outputs": [],
   "source": [
    "from preference_generator import create_all_instances, calculate_total_demand, create_noisy_model_student_list, calculate_single_student_demand,calculate_true_bundle_value\n",
    "from preference_generator_utils import load_obj\n",
    "import numpy as np"
   ]
  },
  {
   "attachments": {},
   "cell_type": "markdown",
   "metadata": {},
   "source": [
    "## Generating Student Instances"
   ]
  },
  {
   "attachments": {},
   "cell_type": "markdown",
   "metadata": {},
   "source": [
    "### Generating Some True Student Lists"
   ]
  },
  {
   "cell_type": "code",
   "execution_count": 2,
   "metadata": {},
   "outputs": [
    {
     "name": "stdout",
     "output_type": "stream",
     "text": [
      "Generating students for run 0\n",
      "Generating students for run 1\n",
      "Generating students for run 2\n",
      "Generating students for run 3\n",
      "Generating students for run 4\n",
      "Generating students for run 5\n",
      "Generating students for run 6\n",
      "Generating students for run 7\n",
      "Generating students for run 8\n",
      "Generating students for run 9\n",
      "Generating students for run 10\n",
      "Generating students for run 11\n",
      "Generating students for run 12\n",
      "Generating students for run 13\n",
      "Generating students for run 14\n",
      "Generating students for run 15\n",
      "Generating students for run 16\n",
      "Generating students for run 17\n",
      "Generating students for run 18\n",
      "Generating students for run 19\n",
      "Generating students for run 20\n",
      "Generating students for run 21\n",
      "Generating students for run 22\n",
      "Generating students for run 23\n",
      "Generating students for run 24\n",
      "Generating students for run 25\n",
      "Generating students for run 26\n",
      "Generating students for run 27\n",
      "Generating students for run 28\n",
      "Generating students for run 29\n",
      "Generating students for run 30\n",
      "Generating students for run 31\n",
      "Generating students for run 32\n",
      "Generating students for run 33\n",
      "Generating students for run 34\n",
      "Generating students for run 35\n",
      "Generating students for run 36\n",
      "Generating students for run 37\n",
      "Generating students for run 38\n",
      "Generating students for run 39\n",
      "Generating students for run 40\n",
      "Generating students for run 41\n",
      "Generating students for run 42\n",
      "Generating students for run 43\n",
      "Generating students for run 44\n",
      "Generating students for run 45\n",
      "Generating students for run 46\n",
      "Generating students for run 47\n",
      "Generating students for run 48\n",
      "Generating students for run 49\n",
      "Generating students for run 0\n",
      "Generating students for run 1\n",
      "Generating students for run 2\n",
      "Generating students for run 3\n",
      "Generating students for run 4\n",
      "Generating students for run 5\n",
      "Generating students for run 6\n",
      "Generating students for run 7\n",
      "Generating students for run 8\n",
      "Generating students for run 9\n",
      "Generating students for run 10\n",
      "Generating students for run 11\n",
      "Generating students for run 12\n",
      "Generating students for run 13\n",
      "Generating students for run 14\n",
      "Generating students for run 15\n",
      "Generating students for run 16\n",
      "Generating students for run 17\n",
      "Generating students for run 18\n",
      "Generating students for run 19\n",
      "Generating students for run 20\n",
      "Generating students for run 21\n",
      "Generating students for run 22\n",
      "Generating students for run 23\n",
      "Generating students for run 24\n",
      "Generating students for run 25\n",
      "Generating students for run 26\n",
      "Generating students for run 27\n",
      "Generating students for run 28\n",
      "Generating students for run 29\n",
      "Generating students for run 30\n",
      "Generating students for run 31\n",
      "Generating students for run 32\n",
      "Generating students for run 33\n",
      "Generating students for run 34\n",
      "Generating students for run 35\n",
      "Generating students for run 36\n",
      "Generating students for run 37\n",
      "Generating students for run 38\n",
      "Generating students for run 39\n",
      "Generating students for run 40\n",
      "Generating students for run 41\n",
      "Generating students for run 42\n",
      "Generating students for run 43\n",
      "Generating students for run 44\n",
      "Generating students for run 45\n",
      "Generating students for run 46\n",
      "Generating students for run 47\n",
      "Generating students for run 48\n",
      "Generating students for run 49\n",
      "Generating students for run 0\n",
      "Generating students for run 1\n",
      "Generating students for run 2\n",
      "Generating students for run 3\n",
      "Generating students for run 4\n",
      "Generating students for run 5\n",
      "Generating students for run 6\n",
      "Generating students for run 7\n",
      "Generating students for run 8\n",
      "Generating students for run 9\n",
      "Generating students for run 10\n",
      "Generating students for run 11\n",
      "Generating students for run 12\n",
      "Generating students for run 13\n",
      "Generating students for run 14\n",
      "Generating students for run 15\n",
      "Generating students for run 16\n",
      "Generating students for run 17\n",
      "Generating students for run 18\n",
      "Generating students for run 19\n",
      "Generating students for run 20\n",
      "Generating students for run 21\n",
      "Generating students for run 22\n",
      "Generating students for run 23\n",
      "Generating students for run 24\n",
      "Generating students for run 25\n",
      "Generating students for run 26\n",
      "Generating students for run 27\n",
      "Generating students for run 28\n",
      "Generating students for run 29\n",
      "Generating students for run 30\n",
      "Generating students for run 31\n",
      "Generating students for run 32\n",
      "Generating students for run 33\n",
      "Generating students for run 34\n",
      "Generating students for run 35\n",
      "Generating students for run 36\n",
      "Generating students for run 37\n",
      "Generating students for run 38\n",
      "Generating students for run 39\n",
      "Generating students for run 40\n",
      "Generating students for run 41\n",
      "Generating students for run 42\n",
      "Generating students for run 43\n",
      "Generating students for run 44\n",
      "Generating students for run 45\n",
      "Generating students for run 46\n",
      "Generating students for run 47\n",
      "Generating students for run 48\n",
      "Generating students for run 49\n"
     ]
    }
   ],
   "source": [
    "# The preferences that were fitted to the Budish and Kessler (2022) data: \n",
    "# For 6 popular courses -> mean number of favourites = 3.85\n",
    "# For 9 popular courses -> mean number of favourites = 2.6\n",
    "# Maximum budget deviation beta was set to 0.04 as in the Rubenstein 2022 paper\n",
    "# In our paper, we report results using a supply ratio of 1.1, 1.25 and 1.5\n",
    "\n",
    "\n",
    "true_student_lists_all_instances, capacities_all_instances, timetables_all_instances = create_all_instances(number_of_instances = 50, number_of_courses= 25, supply_ratio= 1.25, number_of_popular= 9, mean_number_of_favourites= 2.6, maximum_budget_deviation_beta= 0.04, save_results= True, save_folder= \"instances\")\n",
    "true_student_lists_all_instances, capacities_all_instances, timetables_all_instances = create_all_instances(number_of_instances = 50, number_of_courses= 25, supply_ratio= 1.25, number_of_popular= 6, mean_number_of_favourites= 3.85, maximum_budget_deviation_beta= 0.04, save_results= True, save_folder= \"instances\")\n",
    "true_student_lists_all_instances, capacities_all_instances, timetables_all_instances = create_all_instances(number_of_instances = 50, number_of_courses= 25, supply_ratio= 1.25, number_of_popular= 9, mean_number_of_favourites= 6.1, maximum_budget_deviation_beta= 0.04, additive_preferences= True,save_results= True, save_folder= \"instances\")"
   ]
  },
  {
   "attachments": {},
   "cell_type": "markdown",
   "metadata": {},
   "source": [
    "## Loading a problem instance"
   ]
  },
  {
   "cell_type": "code",
   "execution_count": 3,
   "metadata": {},
   "outputs": [],
   "source": [
    "def load_instance(instance_number, supply_ratio = 1.25, number_of_popular = 9, large_grid = True, additive_preferences = False,instance_folder = \"instances\"):\n",
    "    \"\"\"\n",
    "    A simple function to load a single instance, given its number, the supply ration, and the number of pupular courses\n",
    "    \"\"\"\n",
    "\n",
    "    true_student_list = load_obj(f'{instance_folder}/true_student_lists_sr_{supply_ratio}_popular_{number_of_popular}_lg_{large_grid}_additive_preferences_{additive_preferences}')[instance_number]\n",
    "    capacities = np.load(f'{instance_folder}/capacities_all_runs_sr_{supply_ratio}_popular_{number_of_popular}_lg_{large_grid}_additive_preferences_{additive_preferences}.npy')[instance_number]\n",
    "    timetable = load_obj(f'{instance_folder}/timetables_sr_{supply_ratio}_popular_{number_of_popular}_lg_{large_grid}_additive_preferences_{additive_preferences}')[instance_number]\n",
    "\n",
    "    return true_student_list, capacities, timetable\n"
   ]
  },
  {
   "cell_type": "code",
   "execution_count": 4,
   "metadata": {},
   "outputs": [],
   "source": [
    "true_student_list, capacities, timetable = load_instance(instance_number = 2)"
   ]
  },
  {
   "cell_type": "code",
   "execution_count": 5,
   "metadata": {},
   "outputs": [
    {
     "name": "stdout",
     "output_type": "stream",
     "text": [
      "(array([18.98292144,  8.57514682, 41.8369415 , 16.85689443, 28.37950433,\n",
      "       95.9478069 , 14.11722218, 19.58535986, 20.38395801, 49.77133774,\n",
      "       32.46875608, 34.02552264, 44.33089604, 43.40007738, 14.06638234,\n",
      "       12.56752649, 35.18408194, 41.50088155,  3.68875889, 36.16584376,\n",
      "        6.33492287, 16.66658431,  1.10659437, 98.20173386,  6.21521183]), [([5, 1], array([ 0. , -0.4])), ([23, 2], array([ 0. , -0.4]))], [([5, 8], array([0. , 0.4]))], 0, 0, [0, 0, 0, 0, 0], 1.0008)\n"
     ]
    }
   ],
   "source": [
    "# position i of the student list contains the true preferences, and the budget, of the i-th student \n",
    "# format: Additive preferences, list of substitute courses, list of complement courses, 3 time parameters are all set to completely off (and designed to model schedule preferences), and finally budget \n",
    "\n",
    "print(true_student_list[2])"
   ]
  },
  {
   "attachments": {},
   "cell_type": "markdown",
   "metadata": {},
   "source": [
    "## Creating a \"Noisy\" version of a student list"
   ]
  },
  {
   "cell_type": "code",
   "execution_count": 6,
   "metadata": {},
   "outputs": [
    {
     "name": "stdout",
     "output_type": "stream",
     "text": [
      "Noisy all students got called with forget base uniform: 0\n"
     ]
    }
   ],
   "source": [
    "number_of_popular = 9 \n",
    "\n",
    "# these are the noise profiles that were used in our paper and matched as closely as possible the noise profile in the Budish and Kessler 2022 paper. \n",
    "if number_of_popular == 9:\n",
    "    noise_parameter_dictionary = {'noisy_forget_base': 0.5, 'noisy_forget_adjustments': 0.48, 'noisy_base_std': 23, 'noisy_adj_std': 0.2}\n",
    "\n",
    "elif number_of_popular == 6:\n",
    "    noise_parameter_dictionary = {'noisy_forget_base': 0.5, 'noisy_forget_adjustments': 0.4825, 'noisy_base_std': 17, 'noisy_adj_std': 0.2}\n",
    "\n",
    "\n",
    "noisy_student_list = create_noisy_model_student_list(student_list = true_student_lists_all_instances[2], model_type = 'PairwiseAdjustmentsNoisy', \n",
    "                                                    seed = 1213, model_param_dictionary = noise_parameter_dictionary)"
   ]
  },
  {
   "attachments": {},
   "cell_type": "markdown",
   "metadata": {},
   "source": [
    "## Getting the demands of individual students for a given price vector"
   ]
  },
  {
   "cell_type": "code",
   "execution_count": 7,
   "metadata": {},
   "outputs": [
    {
     "name": "stdout",
     "output_type": "stream",
     "text": [
      "Set parameter Username\n",
      "Academic license - for non-commercial use only - expires 2024-02-21\n"
     ]
    }
   ],
   "source": [
    "price_vector = np.array([0.2 for _ in range(25)])  # A price vector for the individual courses\n",
    "credit_units = np.array([1 for _ in range(25)])  # the credit units of inidividual courses. For this problem instance, all courses are worth 1 credit unit, and each student wants up to 5 Credit Units\n",
    "\n",
    "# Demands with respect to their noisy reports in the mechanism\n",
    "total_demand, individual_demands = calculate_total_demand(prices = np.array([0.2 for _ in range(25)]), student_profiles = noisy_student_list, course_timetable = [[] for  _ in range(5)],\n",
    "                            credit_units = np.array([1 for _ in range(25)]), model_type = 'PairwiseAdjustmentsNoisy', credit_units_per_student = 5, return_individual_demands = True)\n",
    "    \n",
    "# Demands with respect to their true reports (note: these preferences are incompatible with the CM GUI language)\n",
    "total_demand_true, individual_demands_true = calculate_total_demand(prices = np.array([0.2 for _ in range(25)]), student_profiles = true_student_list, course_timetable = [[] for  _ in range(5)],\n",
    "                        credit_units = np.array([1 for _ in range(25)]), model_type = 'True', credit_units_per_student = 5, return_individual_demands = True)"
   ]
  },
  {
   "cell_type": "code",
   "execution_count": 8,
   "metadata": {},
   "outputs": [],
   "source": [
    "student_number = 7 \n",
    "\n",
    "demand_noisy = calculate_single_student_demand(prices = np.array([0.2 for _ in range(25)]), \n",
    "    student_profile = noisy_student_list[student_number],\n",
    "    course_timetable = timetable,  # the course timetable affects the feasibility constraints, as students cannot take courses that are scheduled at the same time\n",
    "    credit_units = [1 for i in range(25)],  # the credit units associated with each course \n",
    "    model_type = 'PairwiseAdjustmentsNoisy',  # this is the model type of the GUI reporting language \n",
    "    credit_units_per_student = 5,   # by changing this the maximum number of credit units that the student can take changes, and thus so does the maximum number of courses \n",
    "    budget = 1.3  # with this parameter you can change the budget of the student. \n",
    "    )\n",
    "\n",
    "demand_true = calculate_single_student_demand(prices = np.array([0.2 for _ in range(25)]), \n",
    "    student_profile = true_student_list[student_number],\n",
    "    course_timetable = timetable,\n",
    "    credit_units = [1 for i in range(25)],\n",
    "    model_type = 'True',   # this is the model type of the True student preferences\n",
    "    credit_units_per_student = 5,    \n",
    "    budget = 1.3)"
   ]
  },
  {
   "attachments": {},
   "cell_type": "markdown",
   "metadata": {},
   "source": [
    "## Querying the true value of a student for a bundle"
   ]
  },
  {
   "cell_type": "code",
   "execution_count": 9,
   "metadata": {},
   "outputs": [
    {
     "name": "stdout",
     "output_type": "stream",
     "text": [
      "For student 0, value for the optimal bundle 411.72519280312423 and the one she got under noisy reports: 236.5388810825664\n",
      "For student 1, value for the optimal bundle 342.91666879708566 and the one she got under noisy reports: 185.7957492389514\n",
      "For student 2, value for the optimal bundle 355.16843850217373 and the one she got under noisy reports: 260.7777729223002\n",
      "For student 3, value for the optimal bundle 322.8647521643826 and the one she got under noisy reports: 272.8847882925842\n",
      "For student 4, value for the optimal bundle 262.06398045405274 and the one she got under noisy reports: 139.9139578095377\n",
      "For student 5, value for the optimal bundle 317.1441234097724 and the one she got under noisy reports: 235.8102934334657\n",
      "For student 6, value for the optimal bundle 318.5573066373473 and the one she got under noisy reports: 176.1232469725648\n",
      "For student 7, value for the optimal bundle 398.42928565950757 and the one she got under noisy reports: 296.8632911829787\n",
      "For student 8, value for the optimal bundle 351.9180584736925 and the one she got under noisy reports: 120.59271219893233\n",
      "For student 9, value for the optimal bundle 360.4666050773002 and the one she got under noisy reports: 255.0335005454673\n",
      "For student 10, value for the optimal bundle 297.021450561877 and the one she got under noisy reports: 199.2232133068616\n",
      "For student 11, value for the optimal bundle 379.2576507471595 and the one she got under noisy reports: 230.8156100741222\n",
      "For student 12, value for the optimal bundle 279.73205306496794 and the one she got under noisy reports: 204.77478842811567\n",
      "For student 13, value for the optimal bundle 363.62177686853454 and the one she got under noisy reports: 182.12647247334291\n",
      "For student 14, value for the optimal bundle 355.4486663910546 and the one she got under noisy reports: 188.8892497409147\n",
      "For student 15, value for the optimal bundle 369.5032983548247 and the one she got under noisy reports: 140.56407061354528\n",
      "For student 16, value for the optimal bundle 311.6549183379984 and the one she got under noisy reports: 178.7523262794111\n",
      "For student 17, value for the optimal bundle 325.6789847906869 and the one she got under noisy reports: 188.98832101333974\n",
      "For student 18, value for the optimal bundle 294.83133573880485 and the one she got under noisy reports: 234.75894248517045\n",
      "For student 19, value for the optimal bundle 276.14446049118516 and the one she got under noisy reports: 155.2762258668386\n",
      "For student 20, value for the optimal bundle 377.32414145701836 and the one she got under noisy reports: 306.1419451742486\n",
      "For student 21, value for the optimal bundle 339.4912169663953 and the one she got under noisy reports: 220.818506978728\n",
      "For student 22, value for the optimal bundle 316.9557175554704 and the one she got under noisy reports: 189.25336603521504\n",
      "For student 23, value for the optimal bundle 301.1549285041089 and the one she got under noisy reports: 160.77694482129098\n",
      "For student 24, value for the optimal bundle 353.76573127465247 and the one she got under noisy reports: 233.8635993921137\n",
      "For student 25, value for the optimal bundle 363.8720418566654 and the one she got under noisy reports: 205.9108503725666\n",
      "For student 26, value for the optimal bundle 288.0211525246492 and the one she got under noisy reports: 252.2673342145414\n",
      "For student 27, value for the optimal bundle 360.4696251633719 and the one she got under noisy reports: 245.1386073625961\n",
      "For student 28, value for the optimal bundle 316.0993658815984 and the one she got under noisy reports: 214.0109589857514\n",
      "For student 29, value for the optimal bundle 334.29806013228256 and the one she got under noisy reports: 297.79837670684316\n",
      "For student 30, value for the optimal bundle 340.67434110151464 and the one she got under noisy reports: 199.59447218638383\n",
      "For student 31, value for the optimal bundle 317.00850918169976 and the one she got under noisy reports: 210.78162757541799\n",
      "For student 32, value for the optimal bundle 327.805588177526 and the one she got under noisy reports: 196.48127711489627\n",
      "For student 33, value for the optimal bundle 348.79504791942554 and the one she got under noisy reports: 229.59130819875256\n",
      "For student 34, value for the optimal bundle 408.22539072189284 and the one she got under noisy reports: 171.45349157962107\n",
      "For student 35, value for the optimal bundle 282.94616979352566 and the one she got under noisy reports: 229.35151168765404\n",
      "For student 36, value for the optimal bundle 307.2620110524054 and the one she got under noisy reports: 147.84440433816232\n",
      "For student 37, value for the optimal bundle 319.4324594605509 and the one she got under noisy reports: 197.89412677998092\n",
      "For student 38, value for the optimal bundle 386.4850475330516 and the one she got under noisy reports: 266.4222071842295\n",
      "For student 39, value for the optimal bundle 345.16432177500843 and the one she got under noisy reports: 257.07904929053944\n",
      "For student 40, value for the optimal bundle 306.48454967034394 and the one she got under noisy reports: 207.1551593125653\n",
      "For student 41, value for the optimal bundle 315.07510776693505 and the one she got under noisy reports: 205.72196231141967\n",
      "For student 42, value for the optimal bundle 325.83744999162684 and the one she got under noisy reports: 120.914727269442\n",
      "For student 43, value for the optimal bundle 290.689233589851 and the one she got under noisy reports: 176.2258221172745\n",
      "For student 44, value for the optimal bundle 356.27649004632207 and the one she got under noisy reports: 174.2585679136076\n",
      "For student 45, value for the optimal bundle 340.8899852539882 and the one she got under noisy reports: 149.4923602941276\n",
      "For student 46, value for the optimal bundle 313.7218599833998 and the one she got under noisy reports: 238.08848969142528\n",
      "For student 47, value for the optimal bundle 289.5901992842744 and the one she got under noisy reports: 165.38714925587252\n",
      "For student 48, value for the optimal bundle 340.28172605638554 and the one she got under noisy reports: 167.14065711829687\n",
      "For student 49, value for the optimal bundle 351.13806666563187 and the one she got under noisy reports: 249.73829088592464\n",
      "For student 50, value for the optimal bundle 372.0178525519807 and the one she got under noisy reports: 204.16531307983362\n",
      "For student 51, value for the optimal bundle 300.4980505897443 and the one she got under noisy reports: 167.32947407103975\n",
      "For student 52, value for the optimal bundle 320.0419465889588 and the one she got under noisy reports: 229.84860000483596\n",
      "For student 53, value for the optimal bundle 335.7272846350334 and the one she got under noisy reports: 277.2103682574494\n",
      "For student 54, value for the optimal bundle 379.3323816618986 and the one she got under noisy reports: 180.9134000311094\n",
      "For student 55, value for the optimal bundle 294.4295989697664 and the one she got under noisy reports: 199.97616790369838\n",
      "For student 56, value for the optimal bundle 295.0980532465216 and the one she got under noisy reports: 159.33752365303653\n",
      "For student 57, value for the optimal bundle 315.44751487954034 and the one she got under noisy reports: 237.06336751837756\n",
      "For student 58, value for the optimal bundle 402.2060588396989 and the one she got under noisy reports: 210.13511635194882\n",
      "For student 59, value for the optimal bundle 369.3805935397537 and the one she got under noisy reports: 159.18586396733076\n",
      "For student 60, value for the optimal bundle 297.80339953290496 and the one she got under noisy reports: 191.03195713242047\n",
      "For student 61, value for the optimal bundle 306.5051509388597 and the one she got under noisy reports: 159.91545153434578\n",
      "For student 62, value for the optimal bundle 310.70395331858174 and the one she got under noisy reports: 184.2490398340059\n",
      "For student 63, value for the optimal bundle 326.636707502203 and the one she got under noisy reports: 195.44430061174177\n",
      "For student 64, value for the optimal bundle 377.7601199136635 and the one she got under noisy reports: 298.76291500543164\n",
      "For student 65, value for the optimal bundle 279.82757695035735 and the one she got under noisy reports: 122.29645357045968\n",
      "For student 66, value for the optimal bundle 301.33418258114557 and the one she got under noisy reports: 193.72816427049915\n",
      "For student 67, value for the optimal bundle 323.12796949614153 and the one she got under noisy reports: 188.97347227908455\n",
      "For student 68, value for the optimal bundle 346.02928035866927 and the one she got under noisy reports: 172.26733586708912\n",
      "For student 69, value for the optimal bundle 337.9156209965397 and the one she got under noisy reports: 253.5468026793859\n",
      "For student 70, value for the optimal bundle 305.37836844798494 and the one she got under noisy reports: 229.6166197655509\n",
      "For student 71, value for the optimal bundle 305.9211997148522 and the one she got under noisy reports: 233.34720170644715\n",
      "For student 72, value for the optimal bundle 316.73438407890717 and the one she got under noisy reports: 211.87976278997454\n",
      "For student 73, value for the optimal bundle 323.1222132711222 and the one she got under noisy reports: 240.24151177673932\n",
      "For student 74, value for the optimal bundle 335.4371403336229 and the one she got under noisy reports: 256.55375405829443\n",
      "For student 75, value for the optimal bundle 354.9339976232478 and the one she got under noisy reports: 257.7584471315105\n",
      "For student 76, value for the optimal bundle 311.0421918096535 and the one she got under noisy reports: 261.28832797483597\n",
      "For student 77, value for the optimal bundle 288.1377239501813 and the one she got under noisy reports: 152.59071512463396\n",
      "For student 78, value for the optimal bundle 323.1054164783094 and the one she got under noisy reports: 278.1383254527596\n",
      "For student 79, value for the optimal bundle 315.33346521430053 and the one she got under noisy reports: 270.4485508993039\n",
      "For student 80, value for the optimal bundle 330.8592307011549 and the one she got under noisy reports: 252.14547536275492\n",
      "For student 81, value for the optimal bundle 342.867543772087 and the one she got under noisy reports: 242.11650820808472\n",
      "For student 82, value for the optimal bundle 380.69050745645484 and the one she got under noisy reports: 293.86543963235516\n",
      "For student 83, value for the optimal bundle 382.0648272826897 and the one she got under noisy reports: 231.4370701552033\n",
      "For student 84, value for the optimal bundle 320.86717692347327 and the one she got under noisy reports: 215.60899927914664\n",
      "For student 85, value for the optimal bundle 307.7074083338613 and the one she got under noisy reports: 189.09845710845312\n",
      "For student 86, value for the optimal bundle 359.3609706582228 and the one she got under noisy reports: 145.4685554288555\n",
      "For student 87, value for the optimal bundle 401.124304060741 and the one she got under noisy reports: 184.07953078049368\n",
      "For student 88, value for the optimal bundle 361.9149227399235 and the one she got under noisy reports: 265.6028163602066\n",
      "For student 89, value for the optimal bundle 353.71860666878234 and the one she got under noisy reports: 204.40299459272097\n",
      "For student 90, value for the optimal bundle 400.3859374571189 and the one she got under noisy reports: 153.13807598286581\n",
      "For student 91, value for the optimal bundle 335.13754120270664 and the one she got under noisy reports: 222.97748319915263\n",
      "For student 92, value for the optimal bundle 298.3146990628013 and the one she got under noisy reports: 245.6336137314867\n",
      "For student 93, value for the optimal bundle 337.2721872092534 and the one she got under noisy reports: 186.3913515000902\n",
      "For student 94, value for the optimal bundle 297.9017497196452 and the one she got under noisy reports: 249.1326216905827\n",
      "For student 95, value for the optimal bundle 264.00629798469106 and the one she got under noisy reports: 181.50153912823822\n",
      "For student 96, value for the optimal bundle 347.3678070756628 and the one she got under noisy reports: 189.6194679611066\n",
      "For student 97, value for the optimal bundle 367.2041287326364 and the one she got under noisy reports: 247.394307382293\n",
      "For student 98, value for the optimal bundle 412.2228035434153 and the one she got under noisy reports: 290.2102225759287\n",
      "For student 99, value for the optimal bundle 321.89433111364644 and the one she got under noisy reports: 236.67183396152825\n"
     ]
    }
   ],
   "source": [
    "for i in range(len(individual_demands)): \n",
    "    value_bundle_noisy_preferences = calculate_true_bundle_value(bundle = individual_demands[i], student_preferences = true_student_list[i], timetable = [[] for  _ in range(5)], make_monotone = True)\n",
    "    value_bundle_true_preferences = calculate_true_bundle_value(bundle = individual_demands_true[i], student_preferences = true_student_list[i], timetable = [[] for  _ in range(5)], make_monotone = True)\n",
    "\n",
    "    print(f'For student {i}, value for the optimal bundle {value_bundle_true_preferences} and the one she got under noisy reports: {value_bundle_noisy_preferences}')"
   ]
  }
 ],
 "metadata": {
  "kernelspec": {
   "display_name": "mlca_dq",
   "language": "python",
   "name": "python3"
  },
  "language_info": {
   "codemirror_mode": {
    "name": "ipython",
    "version": 3
   },
   "file_extension": ".py",
   "mimetype": "text/x-python",
   "name": "python",
   "nbconvert_exporter": "python",
   "pygments_lexer": "ipython3",
   "version": "3.8.16"
  },
  "orig_nbformat": 4,
  "vscode": {
   "interpreter": {
    "hash": "a13a3921ff2a036888c80ce6d9a76381b84f0c8446943c3cdab5acf61d8dcce5"
   }
  }
 },
 "nbformat": 4,
 "nbformat_minor": 2
}
